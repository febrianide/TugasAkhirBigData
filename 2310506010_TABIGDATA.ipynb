{
  "nbformat": 4,
  "nbformat_minor": 0,
  "metadata": {
    "colab": {
      "provenance": []
    },
    "kernelspec": {
      "name": "python3",
      "display_name": "Python 3"
    },
    "language_info": {
      "name": "python"
    }
  },
  "cells": [
    {
      "cell_type": "markdown",
      "source": [
        "**IMPORT LIBARY**\n"
      ],
      "metadata": {
        "id": "T06zkny6aHJT"
      }
    },
    {
      "cell_type": "markdown",
      "source": [
        "**NAMA : FEBRIANI DEWI ALVIAH**\n",
        "\n",
        "**NPM : 2310506010**"
      ],
      "metadata": {
        "id": "_X_ywqsnTGp_"
      }
    },
    {
      "cell_type": "markdown",
      "source": [
        "**AKSES GOOGLE DRIVE**"
      ],
      "metadata": {
        "id": "uHizdfSVeqBd"
      }
    },
    {
      "cell_type": "code",
      "execution_count": 33,
      "metadata": {
        "id": "gRXa0jm4aF_5"
      },
      "outputs": [],
      "source": [
        "# Import necessary libraries\n",
        "import pandas as pd\n",
        "from google.colab import drive\n",
        "from sklearn.model_selection import train_test_split, StratifiedKFold, cross_val_score # Import cross_val_score here\n",
        "from sklearn.preprocessing import StandardScaler\n",
        "from sklearn.ensemble import RandomForestClassifier\n",
        "from sklearn.metrics import accuracy_score, classification_report\n",
        "import matplotlib.pyplot as plt\n",
        "from imblearn.over_sampling import SMOTE\n",
        "import seaborn as sns\n"
      ]
    },
    {
      "cell_type": "code",
      "source": [
        "drive.mount('/content/drive')"
      ],
      "metadata": {
        "colab": {
          "base_uri": "https://localhost:8080/"
        },
        "id": "jGBwEjLRbzV_",
        "outputId": "c39343b8-aa9b-49a3-e695-896fb2f96883"
      },
      "execution_count": 12,
      "outputs": [
        {
          "output_type": "stream",
          "name": "stdout",
          "text": [
            "Drive already mounted at /content/drive; to attempt to forcibly remount, call drive.mount(\"/content/drive\", force_remount=True).\n"
          ]
        }
      ]
    },
    {
      "cell_type": "markdown",
      "source": [
        "**MEMBACA DATASET**"
      ],
      "metadata": {
        "id": "E8aZ-XYDe56c"
      }
    },
    {
      "cell_type": "code",
      "source": [
        "# Step 1: Melihat 5 baris pertama dari DataFrame\n",
        "file_path = '/content/drive/MyDrive/TugasAkhir/U.S._Chronic_Disease_Indicators.csv'  # Replace with actual file path\n",
        "data = pd.read_csv(file_path)\n",
        "data.head()\n"
      ],
      "metadata": {
        "colab": {
          "base_uri": "https://localhost:8080/",
          "height": 568
        },
        "id": "DDc4XJxNdmFS",
        "outputId": "9cbdea5e-77b8-45f3-efc0-dfe3c762f01a"
      },
      "execution_count": 13,
      "outputs": [
        {
          "output_type": "execute_result",
          "data": {
            "text/plain": [
              "   YearStart  YearEnd LocationAbbr LocationDesc DataSource     Topic  \\\n",
              "0       2019     2019           AR     Arkansas      BRFSS  Diabetes   \n",
              "1       2019     2019           ID        Idaho      BRFSS  Diabetes   \n",
              "2       2019     2019           IN      Indiana      YRBSS     Sleep   \n",
              "3       2019     2019           IA         Iowa       NVSS    Asthma   \n",
              "4       2019     2019           IA         Iowa      BRFSS    Asthma   \n",
              "\n",
              "                                            Question  Response DataValueUnit  \\\n",
              "0                              Diabetes among adults       NaN             %   \n",
              "1                              Diabetes among adults       NaN             %   \n",
              "2    Short sleep duration among high school students       NaN             %   \n",
              "3  Asthma mortality among all people, underlying ...       NaN        Number   \n",
              "4                        Current asthma among adults       NaN             %   \n",
              "\n",
              "      DataValueType  ...  TopicID  QuestionID ResponseID DataValueTypeID  \\\n",
              "0  Crude Prevalence  ...      DIA       DIA01        NaN         CRDPREV   \n",
              "1  Crude Prevalence  ...      DIA       DIA01        NaN         CRDPREV   \n",
              "2  Crude Prevalence  ...     SLEP       SLP02        NaN         CRDPREV   \n",
              "3            Number  ...      AST       AST01        NaN            NMBR   \n",
              "4  Crude Prevalence  ...      AST       AST02        NaN         CRDPREV   \n",
              "\n",
              "   StratificationCategoryID1  StratificationID1 StratificationCategoryID2  \\\n",
              "0                        SEX               SEXM                       NaN   \n",
              "1                        SEX               SEXM                       NaN   \n",
              "2                      GRADE              GRD12                       NaN   \n",
              "3                    OVERALL                OVR                       NaN   \n",
              "4                        AGE            AGE1844                       NaN   \n",
              "\n",
              "  StratificationID2  StratificationCategoryID3  StratificationID3  \n",
              "0               NaN                        NaN                NaN  \n",
              "1               NaN                        NaN                NaN  \n",
              "2               NaN                        NaN                NaN  \n",
              "3               NaN                        NaN                NaN  \n",
              "4               NaN                        NaN                NaN  \n",
              "\n",
              "[5 rows x 34 columns]"
            ],
            "text/html": [
              "\n",
              "  <div id=\"df-9fd21794-c136-461b-b844-26aafc5c917a\" class=\"colab-df-container\">\n",
              "    <div>\n",
              "<style scoped>\n",
              "    .dataframe tbody tr th:only-of-type {\n",
              "        vertical-align: middle;\n",
              "    }\n",
              "\n",
              "    .dataframe tbody tr th {\n",
              "        vertical-align: top;\n",
              "    }\n",
              "\n",
              "    .dataframe thead th {\n",
              "        text-align: right;\n",
              "    }\n",
              "</style>\n",
              "<table border=\"1\" class=\"dataframe\">\n",
              "  <thead>\n",
              "    <tr style=\"text-align: right;\">\n",
              "      <th></th>\n",
              "      <th>YearStart</th>\n",
              "      <th>YearEnd</th>\n",
              "      <th>LocationAbbr</th>\n",
              "      <th>LocationDesc</th>\n",
              "      <th>DataSource</th>\n",
              "      <th>Topic</th>\n",
              "      <th>Question</th>\n",
              "      <th>Response</th>\n",
              "      <th>DataValueUnit</th>\n",
              "      <th>DataValueType</th>\n",
              "      <th>...</th>\n",
              "      <th>TopicID</th>\n",
              "      <th>QuestionID</th>\n",
              "      <th>ResponseID</th>\n",
              "      <th>DataValueTypeID</th>\n",
              "      <th>StratificationCategoryID1</th>\n",
              "      <th>StratificationID1</th>\n",
              "      <th>StratificationCategoryID2</th>\n",
              "      <th>StratificationID2</th>\n",
              "      <th>StratificationCategoryID3</th>\n",
              "      <th>StratificationID3</th>\n",
              "    </tr>\n",
              "  </thead>\n",
              "  <tbody>\n",
              "    <tr>\n",
              "      <th>0</th>\n",
              "      <td>2019</td>\n",
              "      <td>2019</td>\n",
              "      <td>AR</td>\n",
              "      <td>Arkansas</td>\n",
              "      <td>BRFSS</td>\n",
              "      <td>Diabetes</td>\n",
              "      <td>Diabetes among adults</td>\n",
              "      <td>NaN</td>\n",
              "      <td>%</td>\n",
              "      <td>Crude Prevalence</td>\n",
              "      <td>...</td>\n",
              "      <td>DIA</td>\n",
              "      <td>DIA01</td>\n",
              "      <td>NaN</td>\n",
              "      <td>CRDPREV</td>\n",
              "      <td>SEX</td>\n",
              "      <td>SEXM</td>\n",
              "      <td>NaN</td>\n",
              "      <td>NaN</td>\n",
              "      <td>NaN</td>\n",
              "      <td>NaN</td>\n",
              "    </tr>\n",
              "    <tr>\n",
              "      <th>1</th>\n",
              "      <td>2019</td>\n",
              "      <td>2019</td>\n",
              "      <td>ID</td>\n",
              "      <td>Idaho</td>\n",
              "      <td>BRFSS</td>\n",
              "      <td>Diabetes</td>\n",
              "      <td>Diabetes among adults</td>\n",
              "      <td>NaN</td>\n",
              "      <td>%</td>\n",
              "      <td>Crude Prevalence</td>\n",
              "      <td>...</td>\n",
              "      <td>DIA</td>\n",
              "      <td>DIA01</td>\n",
              "      <td>NaN</td>\n",
              "      <td>CRDPREV</td>\n",
              "      <td>SEX</td>\n",
              "      <td>SEXM</td>\n",
              "      <td>NaN</td>\n",
              "      <td>NaN</td>\n",
              "      <td>NaN</td>\n",
              "      <td>NaN</td>\n",
              "    </tr>\n",
              "    <tr>\n",
              "      <th>2</th>\n",
              "      <td>2019</td>\n",
              "      <td>2019</td>\n",
              "      <td>IN</td>\n",
              "      <td>Indiana</td>\n",
              "      <td>YRBSS</td>\n",
              "      <td>Sleep</td>\n",
              "      <td>Short sleep duration among high school students</td>\n",
              "      <td>NaN</td>\n",
              "      <td>%</td>\n",
              "      <td>Crude Prevalence</td>\n",
              "      <td>...</td>\n",
              "      <td>SLEP</td>\n",
              "      <td>SLP02</td>\n",
              "      <td>NaN</td>\n",
              "      <td>CRDPREV</td>\n",
              "      <td>GRADE</td>\n",
              "      <td>GRD12</td>\n",
              "      <td>NaN</td>\n",
              "      <td>NaN</td>\n",
              "      <td>NaN</td>\n",
              "      <td>NaN</td>\n",
              "    </tr>\n",
              "    <tr>\n",
              "      <th>3</th>\n",
              "      <td>2019</td>\n",
              "      <td>2019</td>\n",
              "      <td>IA</td>\n",
              "      <td>Iowa</td>\n",
              "      <td>NVSS</td>\n",
              "      <td>Asthma</td>\n",
              "      <td>Asthma mortality among all people, underlying ...</td>\n",
              "      <td>NaN</td>\n",
              "      <td>Number</td>\n",
              "      <td>Number</td>\n",
              "      <td>...</td>\n",
              "      <td>AST</td>\n",
              "      <td>AST01</td>\n",
              "      <td>NaN</td>\n",
              "      <td>NMBR</td>\n",
              "      <td>OVERALL</td>\n",
              "      <td>OVR</td>\n",
              "      <td>NaN</td>\n",
              "      <td>NaN</td>\n",
              "      <td>NaN</td>\n",
              "      <td>NaN</td>\n",
              "    </tr>\n",
              "    <tr>\n",
              "      <th>4</th>\n",
              "      <td>2019</td>\n",
              "      <td>2019</td>\n",
              "      <td>IA</td>\n",
              "      <td>Iowa</td>\n",
              "      <td>BRFSS</td>\n",
              "      <td>Asthma</td>\n",
              "      <td>Current asthma among adults</td>\n",
              "      <td>NaN</td>\n",
              "      <td>%</td>\n",
              "      <td>Crude Prevalence</td>\n",
              "      <td>...</td>\n",
              "      <td>AST</td>\n",
              "      <td>AST02</td>\n",
              "      <td>NaN</td>\n",
              "      <td>CRDPREV</td>\n",
              "      <td>AGE</td>\n",
              "      <td>AGE1844</td>\n",
              "      <td>NaN</td>\n",
              "      <td>NaN</td>\n",
              "      <td>NaN</td>\n",
              "      <td>NaN</td>\n",
              "    </tr>\n",
              "  </tbody>\n",
              "</table>\n",
              "<p>5 rows × 34 columns</p>\n",
              "</div>\n",
              "    <div class=\"colab-df-buttons\">\n",
              "\n",
              "  <div class=\"colab-df-container\">\n",
              "    <button class=\"colab-df-convert\" onclick=\"convertToInteractive('df-9fd21794-c136-461b-b844-26aafc5c917a')\"\n",
              "            title=\"Convert this dataframe to an interactive table.\"\n",
              "            style=\"display:none;\">\n",
              "\n",
              "  <svg xmlns=\"http://www.w3.org/2000/svg\" height=\"24px\" viewBox=\"0 -960 960 960\">\n",
              "    <path d=\"M120-120v-720h720v720H120Zm60-500h600v-160H180v160Zm220 220h160v-160H400v160Zm0 220h160v-160H400v160ZM180-400h160v-160H180v160Zm440 0h160v-160H620v160ZM180-180h160v-160H180v160Zm440 0h160v-160H620v160Z\"/>\n",
              "  </svg>\n",
              "    </button>\n",
              "\n",
              "  <style>\n",
              "    .colab-df-container {\n",
              "      display:flex;\n",
              "      gap: 12px;\n",
              "    }\n",
              "\n",
              "    .colab-df-convert {\n",
              "      background-color: #E8F0FE;\n",
              "      border: none;\n",
              "      border-radius: 50%;\n",
              "      cursor: pointer;\n",
              "      display: none;\n",
              "      fill: #1967D2;\n",
              "      height: 32px;\n",
              "      padding: 0 0 0 0;\n",
              "      width: 32px;\n",
              "    }\n",
              "\n",
              "    .colab-df-convert:hover {\n",
              "      background-color: #E2EBFA;\n",
              "      box-shadow: 0px 1px 2px rgba(60, 64, 67, 0.3), 0px 1px 3px 1px rgba(60, 64, 67, 0.15);\n",
              "      fill: #174EA6;\n",
              "    }\n",
              "\n",
              "    .colab-df-buttons div {\n",
              "      margin-bottom: 4px;\n",
              "    }\n",
              "\n",
              "    [theme=dark] .colab-df-convert {\n",
              "      background-color: #3B4455;\n",
              "      fill: #D2E3FC;\n",
              "    }\n",
              "\n",
              "    [theme=dark] .colab-df-convert:hover {\n",
              "      background-color: #434B5C;\n",
              "      box-shadow: 0px 1px 3px 1px rgba(0, 0, 0, 0.15);\n",
              "      filter: drop-shadow(0px 1px 2px rgba(0, 0, 0, 0.3));\n",
              "      fill: #FFFFFF;\n",
              "    }\n",
              "  </style>\n",
              "\n",
              "    <script>\n",
              "      const buttonEl =\n",
              "        document.querySelector('#df-9fd21794-c136-461b-b844-26aafc5c917a button.colab-df-convert');\n",
              "      buttonEl.style.display =\n",
              "        google.colab.kernel.accessAllowed ? 'block' : 'none';\n",
              "\n",
              "      async function convertToInteractive(key) {\n",
              "        const element = document.querySelector('#df-9fd21794-c136-461b-b844-26aafc5c917a');\n",
              "        const dataTable =\n",
              "          await google.colab.kernel.invokeFunction('convertToInteractive',\n",
              "                                                    [key], {});\n",
              "        if (!dataTable) return;\n",
              "\n",
              "        const docLinkHtml = 'Like what you see? Visit the ' +\n",
              "          '<a target=\"_blank\" href=https://colab.research.google.com/notebooks/data_table.ipynb>data table notebook</a>'\n",
              "          + ' to learn more about interactive tables.';\n",
              "        element.innerHTML = '';\n",
              "        dataTable['output_type'] = 'display_data';\n",
              "        await google.colab.output.renderOutput(dataTable, element);\n",
              "        const docLink = document.createElement('div');\n",
              "        docLink.innerHTML = docLinkHtml;\n",
              "        element.appendChild(docLink);\n",
              "      }\n",
              "    </script>\n",
              "  </div>\n",
              "\n",
              "\n",
              "<div id=\"df-bd401212-7ed8-4088-8172-ca96e759f89f\">\n",
              "  <button class=\"colab-df-quickchart\" onclick=\"quickchart('df-bd401212-7ed8-4088-8172-ca96e759f89f')\"\n",
              "            title=\"Suggest charts\"\n",
              "            style=\"display:none;\">\n",
              "\n",
              "<svg xmlns=\"http://www.w3.org/2000/svg\" height=\"24px\"viewBox=\"0 0 24 24\"\n",
              "     width=\"24px\">\n",
              "    <g>\n",
              "        <path d=\"M19 3H5c-1.1 0-2 .9-2 2v14c0 1.1.9 2 2 2h14c1.1 0 2-.9 2-2V5c0-1.1-.9-2-2-2zM9 17H7v-7h2v7zm4 0h-2V7h2v10zm4 0h-2v-4h2v4z\"/>\n",
              "    </g>\n",
              "</svg>\n",
              "  </button>\n",
              "\n",
              "<style>\n",
              "  .colab-df-quickchart {\n",
              "      --bg-color: #E8F0FE;\n",
              "      --fill-color: #1967D2;\n",
              "      --hover-bg-color: #E2EBFA;\n",
              "      --hover-fill-color: #174EA6;\n",
              "      --disabled-fill-color: #AAA;\n",
              "      --disabled-bg-color: #DDD;\n",
              "  }\n",
              "\n",
              "  [theme=dark] .colab-df-quickchart {\n",
              "      --bg-color: #3B4455;\n",
              "      --fill-color: #D2E3FC;\n",
              "      --hover-bg-color: #434B5C;\n",
              "      --hover-fill-color: #FFFFFF;\n",
              "      --disabled-bg-color: #3B4455;\n",
              "      --disabled-fill-color: #666;\n",
              "  }\n",
              "\n",
              "  .colab-df-quickchart {\n",
              "    background-color: var(--bg-color);\n",
              "    border: none;\n",
              "    border-radius: 50%;\n",
              "    cursor: pointer;\n",
              "    display: none;\n",
              "    fill: var(--fill-color);\n",
              "    height: 32px;\n",
              "    padding: 0;\n",
              "    width: 32px;\n",
              "  }\n",
              "\n",
              "  .colab-df-quickchart:hover {\n",
              "    background-color: var(--hover-bg-color);\n",
              "    box-shadow: 0 1px 2px rgba(60, 64, 67, 0.3), 0 1px 3px 1px rgba(60, 64, 67, 0.15);\n",
              "    fill: var(--button-hover-fill-color);\n",
              "  }\n",
              "\n",
              "  .colab-df-quickchart-complete:disabled,\n",
              "  .colab-df-quickchart-complete:disabled:hover {\n",
              "    background-color: var(--disabled-bg-color);\n",
              "    fill: var(--disabled-fill-color);\n",
              "    box-shadow: none;\n",
              "  }\n",
              "\n",
              "  .colab-df-spinner {\n",
              "    border: 2px solid var(--fill-color);\n",
              "    border-color: transparent;\n",
              "    border-bottom-color: var(--fill-color);\n",
              "    animation:\n",
              "      spin 1s steps(1) infinite;\n",
              "  }\n",
              "\n",
              "  @keyframes spin {\n",
              "    0% {\n",
              "      border-color: transparent;\n",
              "      border-bottom-color: var(--fill-color);\n",
              "      border-left-color: var(--fill-color);\n",
              "    }\n",
              "    20% {\n",
              "      border-color: transparent;\n",
              "      border-left-color: var(--fill-color);\n",
              "      border-top-color: var(--fill-color);\n",
              "    }\n",
              "    30% {\n",
              "      border-color: transparent;\n",
              "      border-left-color: var(--fill-color);\n",
              "      border-top-color: var(--fill-color);\n",
              "      border-right-color: var(--fill-color);\n",
              "    }\n",
              "    40% {\n",
              "      border-color: transparent;\n",
              "      border-right-color: var(--fill-color);\n",
              "      border-top-color: var(--fill-color);\n",
              "    }\n",
              "    60% {\n",
              "      border-color: transparent;\n",
              "      border-right-color: var(--fill-color);\n",
              "    }\n",
              "    80% {\n",
              "      border-color: transparent;\n",
              "      border-right-color: var(--fill-color);\n",
              "      border-bottom-color: var(--fill-color);\n",
              "    }\n",
              "    90% {\n",
              "      border-color: transparent;\n",
              "      border-bottom-color: var(--fill-color);\n",
              "    }\n",
              "  }\n",
              "</style>\n",
              "\n",
              "  <script>\n",
              "    async function quickchart(key) {\n",
              "      const quickchartButtonEl =\n",
              "        document.querySelector('#' + key + ' button');\n",
              "      quickchartButtonEl.disabled = true;  // To prevent multiple clicks.\n",
              "      quickchartButtonEl.classList.add('colab-df-spinner');\n",
              "      try {\n",
              "        const charts = await google.colab.kernel.invokeFunction(\n",
              "            'suggestCharts', [key], {});\n",
              "      } catch (error) {\n",
              "        console.error('Error during call to suggestCharts:', error);\n",
              "      }\n",
              "      quickchartButtonEl.classList.remove('colab-df-spinner');\n",
              "      quickchartButtonEl.classList.add('colab-df-quickchart-complete');\n",
              "    }\n",
              "    (() => {\n",
              "      let quickchartButtonEl =\n",
              "        document.querySelector('#df-bd401212-7ed8-4088-8172-ca96e759f89f button');\n",
              "      quickchartButtonEl.style.display =\n",
              "        google.colab.kernel.accessAllowed ? 'block' : 'none';\n",
              "    })();\n",
              "  </script>\n",
              "</div>\n",
              "\n",
              "    </div>\n",
              "  </div>\n"
            ],
            "application/vnd.google.colaboratory.intrinsic+json": {
              "type": "dataframe",
              "variable_name": "data"
            }
          },
          "metadata": {},
          "execution_count": 13
        }
      ]
    },
    {
      "cell_type": "code",
      "source": [
        "#ringkasan informasi tentang sebuah DataFrame\n",
        "file_path = '/content/drive/MyDrive/TugasAkhir/U.S._Chronic_Disease_Indicators.csv'  # Replace with actual file path\n",
        "data = pd.read_csv(file_path)\n",
        "data.info()"
      ],
      "metadata": {
        "colab": {
          "base_uri": "https://localhost:8080/"
        },
        "id": "JNhSoPMAe5Ix",
        "outputId": "97d9456a-81b6-4f8f-e6e5-9f9d123e7956"
      },
      "execution_count": 14,
      "outputs": [
        {
          "output_type": "stream",
          "name": "stdout",
          "text": [
            "<class 'pandas.core.frame.DataFrame'>\n",
            "RangeIndex: 309215 entries, 0 to 309214\n",
            "Data columns (total 34 columns):\n",
            " #   Column                     Non-Null Count   Dtype  \n",
            "---  ------                     --------------   -----  \n",
            " 0   YearStart                  309215 non-null  int64  \n",
            " 1   YearEnd                    309215 non-null  int64  \n",
            " 2   LocationAbbr               309215 non-null  object \n",
            " 3   LocationDesc               309215 non-null  object \n",
            " 4   DataSource                 309215 non-null  object \n",
            " 5   Topic                      309215 non-null  object \n",
            " 6   Question                   309215 non-null  object \n",
            " 7   Response                   0 non-null       float64\n",
            " 8   DataValueUnit              309215 non-null  object \n",
            " 9   DataValueType              309215 non-null  object \n",
            " 10  DataValue                  209196 non-null  float64\n",
            " 11  DataValueAlt               209196 non-null  float64\n",
            " 12  DataValueFootnoteSymbol    101716 non-null  object \n",
            " 13  DataValueFootnote          101716 non-null  object \n",
            " 14  LowConfidenceLimit         188885 non-null  float64\n",
            " 15  HighConfidenceLimit        188890 non-null  float64\n",
            " 16  StratificationCategory1    309215 non-null  object \n",
            " 17  Stratification1            309215 non-null  object \n",
            " 18  StratificationCategory2    0 non-null       float64\n",
            " 19  Stratification2            0 non-null       float64\n",
            " 20  StratificationCategory3    0 non-null       float64\n",
            " 21  Stratification3            0 non-null       float64\n",
            " 22  Geolocation                303452 non-null  object \n",
            " 23  LocationID                 309215 non-null  int64  \n",
            " 24  TopicID                    309215 non-null  object \n",
            " 25  QuestionID                 309215 non-null  object \n",
            " 26  ResponseID                 0 non-null       float64\n",
            " 27  DataValueTypeID            309215 non-null  object \n",
            " 28  StratificationCategoryID1  309215 non-null  object \n",
            " 29  StratificationID1          309215 non-null  object \n",
            " 30  StratificationCategoryID2  0 non-null       float64\n",
            " 31  StratificationID2          0 non-null       float64\n",
            " 32  StratificationCategoryID3  0 non-null       float64\n",
            " 33  StratificationID3          0 non-null       float64\n",
            "dtypes: float64(14), int64(3), object(17)\n",
            "memory usage: 80.2+ MB\n"
          ]
        }
      ]
    },
    {
      "cell_type": "code",
      "source": [
        "# Mengcek Nilai NaN Pada DataFrame\n",
        "data.isna().sum()"
      ],
      "metadata": {
        "colab": {
          "base_uri": "https://localhost:8080/",
          "height": 1000
        },
        "id": "v0pS-2hFgeCR",
        "outputId": "4633605f-8936-41d5-823c-7ab14f8d6330"
      },
      "execution_count": 15,
      "outputs": [
        {
          "output_type": "execute_result",
          "data": {
            "text/plain": [
              "YearStart                         0\n",
              "YearEnd                           0\n",
              "LocationAbbr                      0\n",
              "LocationDesc                      0\n",
              "DataSource                        0\n",
              "Topic                             0\n",
              "Question                          0\n",
              "Response                     309215\n",
              "DataValueUnit                     0\n",
              "DataValueType                     0\n",
              "DataValue                    100019\n",
              "DataValueAlt                 100019\n",
              "DataValueFootnoteSymbol      207499\n",
              "DataValueFootnote            207499\n",
              "LowConfidenceLimit           120330\n",
              "HighConfidenceLimit          120325\n",
              "StratificationCategory1           0\n",
              "Stratification1                   0\n",
              "StratificationCategory2      309215\n",
              "Stratification2              309215\n",
              "StratificationCategory3      309215\n",
              "Stratification3              309215\n",
              "Geolocation                    5763\n",
              "LocationID                        0\n",
              "TopicID                           0\n",
              "QuestionID                        0\n",
              "ResponseID                   309215\n",
              "DataValueTypeID                   0\n",
              "StratificationCategoryID1         0\n",
              "StratificationID1                 0\n",
              "StratificationCategoryID2    309215\n",
              "StratificationID2            309215\n",
              "StratificationCategoryID3    309215\n",
              "StratificationID3            309215\n",
              "dtype: int64"
            ],
            "text/html": [
              "<div>\n",
              "<style scoped>\n",
              "    .dataframe tbody tr th:only-of-type {\n",
              "        vertical-align: middle;\n",
              "    }\n",
              "\n",
              "    .dataframe tbody tr th {\n",
              "        vertical-align: top;\n",
              "    }\n",
              "\n",
              "    .dataframe thead th {\n",
              "        text-align: right;\n",
              "    }\n",
              "</style>\n",
              "<table border=\"1\" class=\"dataframe\">\n",
              "  <thead>\n",
              "    <tr style=\"text-align: right;\">\n",
              "      <th></th>\n",
              "      <th>0</th>\n",
              "    </tr>\n",
              "  </thead>\n",
              "  <tbody>\n",
              "    <tr>\n",
              "      <th>YearStart</th>\n",
              "      <td>0</td>\n",
              "    </tr>\n",
              "    <tr>\n",
              "      <th>YearEnd</th>\n",
              "      <td>0</td>\n",
              "    </tr>\n",
              "    <tr>\n",
              "      <th>LocationAbbr</th>\n",
              "      <td>0</td>\n",
              "    </tr>\n",
              "    <tr>\n",
              "      <th>LocationDesc</th>\n",
              "      <td>0</td>\n",
              "    </tr>\n",
              "    <tr>\n",
              "      <th>DataSource</th>\n",
              "      <td>0</td>\n",
              "    </tr>\n",
              "    <tr>\n",
              "      <th>Topic</th>\n",
              "      <td>0</td>\n",
              "    </tr>\n",
              "    <tr>\n",
              "      <th>Question</th>\n",
              "      <td>0</td>\n",
              "    </tr>\n",
              "    <tr>\n",
              "      <th>Response</th>\n",
              "      <td>309215</td>\n",
              "    </tr>\n",
              "    <tr>\n",
              "      <th>DataValueUnit</th>\n",
              "      <td>0</td>\n",
              "    </tr>\n",
              "    <tr>\n",
              "      <th>DataValueType</th>\n",
              "      <td>0</td>\n",
              "    </tr>\n",
              "    <tr>\n",
              "      <th>DataValue</th>\n",
              "      <td>100019</td>\n",
              "    </tr>\n",
              "    <tr>\n",
              "      <th>DataValueAlt</th>\n",
              "      <td>100019</td>\n",
              "    </tr>\n",
              "    <tr>\n",
              "      <th>DataValueFootnoteSymbol</th>\n",
              "      <td>207499</td>\n",
              "    </tr>\n",
              "    <tr>\n",
              "      <th>DataValueFootnote</th>\n",
              "      <td>207499</td>\n",
              "    </tr>\n",
              "    <tr>\n",
              "      <th>LowConfidenceLimit</th>\n",
              "      <td>120330</td>\n",
              "    </tr>\n",
              "    <tr>\n",
              "      <th>HighConfidenceLimit</th>\n",
              "      <td>120325</td>\n",
              "    </tr>\n",
              "    <tr>\n",
              "      <th>StratificationCategory1</th>\n",
              "      <td>0</td>\n",
              "    </tr>\n",
              "    <tr>\n",
              "      <th>Stratification1</th>\n",
              "      <td>0</td>\n",
              "    </tr>\n",
              "    <tr>\n",
              "      <th>StratificationCategory2</th>\n",
              "      <td>309215</td>\n",
              "    </tr>\n",
              "    <tr>\n",
              "      <th>Stratification2</th>\n",
              "      <td>309215</td>\n",
              "    </tr>\n",
              "    <tr>\n",
              "      <th>StratificationCategory3</th>\n",
              "      <td>309215</td>\n",
              "    </tr>\n",
              "    <tr>\n",
              "      <th>Stratification3</th>\n",
              "      <td>309215</td>\n",
              "    </tr>\n",
              "    <tr>\n",
              "      <th>Geolocation</th>\n",
              "      <td>5763</td>\n",
              "    </tr>\n",
              "    <tr>\n",
              "      <th>LocationID</th>\n",
              "      <td>0</td>\n",
              "    </tr>\n",
              "    <tr>\n",
              "      <th>TopicID</th>\n",
              "      <td>0</td>\n",
              "    </tr>\n",
              "    <tr>\n",
              "      <th>QuestionID</th>\n",
              "      <td>0</td>\n",
              "    </tr>\n",
              "    <tr>\n",
              "      <th>ResponseID</th>\n",
              "      <td>309215</td>\n",
              "    </tr>\n",
              "    <tr>\n",
              "      <th>DataValueTypeID</th>\n",
              "      <td>0</td>\n",
              "    </tr>\n",
              "    <tr>\n",
              "      <th>StratificationCategoryID1</th>\n",
              "      <td>0</td>\n",
              "    </tr>\n",
              "    <tr>\n",
              "      <th>StratificationID1</th>\n",
              "      <td>0</td>\n",
              "    </tr>\n",
              "    <tr>\n",
              "      <th>StratificationCategoryID2</th>\n",
              "      <td>309215</td>\n",
              "    </tr>\n",
              "    <tr>\n",
              "      <th>StratificationID2</th>\n",
              "      <td>309215</td>\n",
              "    </tr>\n",
              "    <tr>\n",
              "      <th>StratificationCategoryID3</th>\n",
              "      <td>309215</td>\n",
              "    </tr>\n",
              "    <tr>\n",
              "      <th>StratificationID3</th>\n",
              "      <td>309215</td>\n",
              "    </tr>\n",
              "  </tbody>\n",
              "</table>\n",
              "</div><br><label><b>dtype:</b> int64</label>"
            ]
          },
          "metadata": {},
          "execution_count": 15
        }
      ]
    },
    {
      "cell_type": "code",
      "source": [
        "# Menghapus kolom dengan semua yang memiliki value null\n",
        "data_cleaned = data.dropna(axis=1, how='all')\n",
        "data_cleaned.info()"
      ],
      "metadata": {
        "colab": {
          "base_uri": "https://localhost:8080/"
        },
        "id": "WpVMCaf-g5mA",
        "outputId": "b9029b90-eae3-4a57-876c-ef43f7bcaff1"
      },
      "execution_count": 16,
      "outputs": [
        {
          "output_type": "stream",
          "name": "stdout",
          "text": [
            "<class 'pandas.core.frame.DataFrame'>\n",
            "RangeIndex: 309215 entries, 0 to 309214\n",
            "Data columns (total 24 columns):\n",
            " #   Column                     Non-Null Count   Dtype  \n",
            "---  ------                     --------------   -----  \n",
            " 0   YearStart                  309215 non-null  int64  \n",
            " 1   YearEnd                    309215 non-null  int64  \n",
            " 2   LocationAbbr               309215 non-null  object \n",
            " 3   LocationDesc               309215 non-null  object \n",
            " 4   DataSource                 309215 non-null  object \n",
            " 5   Topic                      309215 non-null  object \n",
            " 6   Question                   309215 non-null  object \n",
            " 7   DataValueUnit              309215 non-null  object \n",
            " 8   DataValueType              309215 non-null  object \n",
            " 9   DataValue                  209196 non-null  float64\n",
            " 10  DataValueAlt               209196 non-null  float64\n",
            " 11  DataValueFootnoteSymbol    101716 non-null  object \n",
            " 12  DataValueFootnote          101716 non-null  object \n",
            " 13  LowConfidenceLimit         188885 non-null  float64\n",
            " 14  HighConfidenceLimit        188890 non-null  float64\n",
            " 15  StratificationCategory1    309215 non-null  object \n",
            " 16  Stratification1            309215 non-null  object \n",
            " 17  Geolocation                303452 non-null  object \n",
            " 18  LocationID                 309215 non-null  int64  \n",
            " 19  TopicID                    309215 non-null  object \n",
            " 20  QuestionID                 309215 non-null  object \n",
            " 21  DataValueTypeID            309215 non-null  object \n",
            " 22  StratificationCategoryID1  309215 non-null  object \n",
            " 23  StratificationID1          309215 non-null  object \n",
            "dtypes: float64(4), int64(3), object(17)\n",
            "memory usage: 56.6+ MB\n"
          ]
        }
      ]
    },
    {
      "cell_type": "code",
      "source": [
        "# Hapus baris yang memiliki nilai penting yang hilang\n",
        "data_cleaned = data_cleaned.dropna(subset=['DataValue'])\n",
        "data_cleaned.info()"
      ],
      "metadata": {
        "colab": {
          "base_uri": "https://localhost:8080/"
        },
        "id": "qLT7KUWehnhR",
        "outputId": "ab475d59-8691-4281-a23e-306009b77a47"
      },
      "execution_count": 17,
      "outputs": [
        {
          "output_type": "stream",
          "name": "stdout",
          "text": [
            "<class 'pandas.core.frame.DataFrame'>\n",
            "Index: 209196 entries, 0 to 309214\n",
            "Data columns (total 24 columns):\n",
            " #   Column                     Non-Null Count   Dtype  \n",
            "---  ------                     --------------   -----  \n",
            " 0   YearStart                  209196 non-null  int64  \n",
            " 1   YearEnd                    209196 non-null  int64  \n",
            " 2   LocationAbbr               209196 non-null  object \n",
            " 3   LocationDesc               209196 non-null  object \n",
            " 4   DataSource                 209196 non-null  object \n",
            " 5   Topic                      209196 non-null  object \n",
            " 6   Question                   209196 non-null  object \n",
            " 7   DataValueUnit              209196 non-null  object \n",
            " 8   DataValueType              209196 non-null  object \n",
            " 9   DataValue                  209196 non-null  float64\n",
            " 10  DataValueAlt               209196 non-null  float64\n",
            " 11  DataValueFootnoteSymbol    1697 non-null    object \n",
            " 12  DataValueFootnote          1697 non-null    object \n",
            " 13  LowConfidenceLimit         188885 non-null  float64\n",
            " 14  HighConfidenceLimit        188890 non-null  float64\n",
            " 15  StratificationCategory1    209196 non-null  object \n",
            " 16  Stratification1            209196 non-null  object \n",
            " 17  Geolocation                204130 non-null  object \n",
            " 18  LocationID                 209196 non-null  int64  \n",
            " 19  TopicID                    209196 non-null  object \n",
            " 20  QuestionID                 209196 non-null  object \n",
            " 21  DataValueTypeID            209196 non-null  object \n",
            " 22  StratificationCategoryID1  209196 non-null  object \n",
            " 23  StratificationID1          209196 non-null  object \n",
            "dtypes: float64(4), int64(3), object(17)\n",
            "memory usage: 39.9+ MB\n"
          ]
        }
      ]
    },
    {
      "cell_type": "code",
      "source": [
        "# Step 4: Memilih kolom untuk data yang dianalisis\n",
        "columns_of_interest = [\n",
        "    'YearStart', 'YearEnd', 'LocationAbbr', 'LocationDesc',\n",
        "    'Topic', 'Question', 'DataValue', 'DataValueType', 'Geolocation'\n",
        "]\n",
        "data_prepared = data_cleaned[columns_of_interest]"
      ],
      "metadata": {
        "id": "jJ3ocetdiAo4"
      },
      "execution_count": 18,
      "outputs": []
    },
    {
      "cell_type": "code",
      "source": [
        "# Step 5: Handle missing values in 'Geolocation' (optional)\n",
        "data_prepared['Geolocation'] = data_prepared['Geolocation'].fillna('Unknown')"
      ],
      "metadata": {
        "colab": {
          "base_uri": "https://localhost:8080/"
        },
        "id": "zsyChFRCiJpE",
        "outputId": "32dd8801-fd53-41b1-f552-04fe182dacb5"
      },
      "execution_count": 9,
      "outputs": [
        {
          "output_type": "stream",
          "name": "stderr",
          "text": [
            "<ipython-input-9-a535d92ff3da>:2: SettingWithCopyWarning: \n",
            "A value is trying to be set on a copy of a slice from a DataFrame.\n",
            "Try using .loc[row_indexer,col_indexer] = value instead\n",
            "\n",
            "See the caveats in the documentation: https://pandas.pydata.org/pandas-docs/stable/user_guide/indexing.html#returning-a-view-versus-a-copy\n",
            "  data_prepared['Geolocation'] = data_prepared['Geolocation'].fillna('Unknown')\n"
          ]
        }
      ]
    },
    {
      "cell_type": "code",
      "source": [
        "# Step 6: Reset index for clean data\n",
        "data_prepared = data_prepared.reset_index(drop=True)"
      ],
      "metadata": {
        "id": "eRI4zweDiUYg"
      },
      "execution_count": 19,
      "outputs": []
    },
    {
      "cell_type": "code",
      "source": [
        "# Step 7: Display a summary of the prepared data\n",
        "print(\"Dataset Information After Preparation:\")\n",
        "print(data_prepared.info())\n",
        "print(\"\\nSample Data:\")\n",
        "print(data_prepared.head())"
      ],
      "metadata": {
        "colab": {
          "base_uri": "https://localhost:8080/"
        },
        "id": "9kVaWKK6iXJg",
        "outputId": "25fd7f1c-ab12-4e2a-8123-2367b7e6ef4b"
      },
      "execution_count": 20,
      "outputs": [
        {
          "output_type": "stream",
          "name": "stdout",
          "text": [
            "Dataset Information After Preparation:\n",
            "<class 'pandas.core.frame.DataFrame'>\n",
            "RangeIndex: 209196 entries, 0 to 209195\n",
            "Data columns (total 9 columns):\n",
            " #   Column         Non-Null Count   Dtype  \n",
            "---  ------         --------------   -----  \n",
            " 0   YearStart      209196 non-null  int64  \n",
            " 1   YearEnd        209196 non-null  int64  \n",
            " 2   LocationAbbr   209196 non-null  object \n",
            " 3   LocationDesc   209196 non-null  object \n",
            " 4   Topic          209196 non-null  object \n",
            " 5   Question       209196 non-null  object \n",
            " 6   DataValue      209196 non-null  float64\n",
            " 7   DataValueType  209196 non-null  object \n",
            " 8   Geolocation    204130 non-null  object \n",
            "dtypes: float64(1), int64(2), object(6)\n",
            "memory usage: 14.4+ MB\n",
            "None\n",
            "\n",
            "Sample Data:\n",
            "   YearStart  YearEnd LocationAbbr LocationDesc     Topic  \\\n",
            "0       2019     2019           AR     Arkansas  Diabetes   \n",
            "1       2019     2019           ID        Idaho  Diabetes   \n",
            "2       2019     2019           IA         Iowa    Asthma   \n",
            "3       2019     2019           IA         Iowa    Asthma   \n",
            "4       2019     2019           IA         Iowa  Diabetes   \n",
            "\n",
            "                                            Question  DataValue  \\\n",
            "0                              Diabetes among adults       13.6   \n",
            "1                              Diabetes among adults       10.6   \n",
            "2  Asthma mortality among all people, underlying ...       54.0   \n",
            "3                        Current asthma among adults       10.3   \n",
            "4  Diabetes mortality among all people, underlyin...       54.0   \n",
            "\n",
            "      DataValueType                                    Geolocation  \n",
            "0  Crude Prevalence   POINT (-92.27449074299966 34.74865012400045)  \n",
            "1  Crude Prevalence  POINT (-114.3637300419997 43.682630005000476)  \n",
            "2            Number   POINT (-93.81649055599968 42.46940091300047)  \n",
            "3  Crude Prevalence   POINT (-93.81649055599968 42.46940091300047)  \n",
            "4            Number   POINT (-93.81649055599968 42.46940091300047)  \n"
          ]
        }
      ]
    },
    {
      "cell_type": "code",
      "source": [
        "# Step 8: Save the prepared data to a new CSV file (optional)\n",
        "data_prepared.to_csv('Prepared_Chronic_Disease_Indicators.csv', index=False)"
      ],
      "metadata": {
        "id": "Lue6RhrMibB-"
      },
      "execution_count": 21,
      "outputs": []
    },
    {
      "cell_type": "markdown",
      "source": [
        "**MODELING DATA DENGAN MENGUNAKAN RANDOM CLASSIFIER**"
      ],
      "metadata": {
        "id": "AcXS4nHTkiFK"
      }
    },
    {
      "cell_type": "code",
      "source": [
        "# 2. Pilih fitur dan target\n",
        "selected_features = ['YearStart', 'YearEnd', 'DataValue']\n",
        "target_column = 'Topic'"
      ],
      "metadata": {
        "id": "xT0i06Gi8k4D"
      },
      "execution_count": 22,
      "outputs": []
    },
    {
      "cell_type": "code",
      "source": [
        "# Hilangkan baris kosong pada kolom penting\n",
        "data = data.dropna(subset=selected_features + [target_column])"
      ],
      "metadata": {
        "id": "N2UI6Slj_KS7"
      },
      "execution_count": 23,
      "outputs": []
    },
    {
      "cell_type": "code",
      "source": [
        "# Fitur (X) dan Target (y)\n",
        "X = data[selected_features]  # Fitur\n",
        "y = data[target_column]      # Target"
      ],
      "metadata": {
        "id": "C4QV2869_NTe"
      },
      "execution_count": 24,
      "outputs": []
    },
    {
      "cell_type": "code",
      "source": [
        "# Encode target jika berupa kategori\n",
        "y = pd.factorize(y)[0]  # Ubah kategori menjadi angka"
      ],
      "metadata": {
        "id": "GOeo9PsS_ain"
      },
      "execution_count": 25,
      "outputs": []
    },
    {
      "cell_type": "code",
      "source": [
        "# 3. Normalisasi data\n",
        "scaler = StandardScaler()\n",
        "X_scaled = scaler.fit_transform(X)"
      ],
      "metadata": {
        "id": "IJdgWFPwMqh-"
      },
      "execution_count": 26,
      "outputs": []
    },
    {
      "cell_type": "code",
      "source": [
        "# 4. Oversampling menggunakan SMOTE untuk mengatasi ketidakseimbangan\n",
        "smote = SMOTE(random_state=42)\n",
        "X_resampled, y_resampled = smote.fit_resample(X_scaled, y)\n"
      ],
      "metadata": {
        "id": "-_CZfiMU_aa6"
      },
      "execution_count": 27,
      "outputs": []
    },
    {
      "cell_type": "code",
      "source": [
        "# 5. Cross-validation dengan StratifiedKFold\n",
        "from sklearn.model_selection import StratifiedKFold # Import the StratifiedKFold class\n",
        "cv = StratifiedKFold(n_splits=5, shuffle=True, random_state=42)"
      ],
      "metadata": {
        "id": "XGrPUTIp_Yoe"
      },
      "execution_count": 29,
      "outputs": []
    },
    {
      "cell_type": "code",
      "source": [
        "# Model Random Forest\n",
        "model = RandomForestClassifier(random_state=42, n_estimators=200, max_depth=15, min_samples_split=10)"
      ],
      "metadata": {
        "id": "TDWLrwmgM9cY"
      },
      "execution_count": 30,
      "outputs": []
    },
    {
      "cell_type": "code",
      "source": [
        "# Evaluasi dengan cross-validation\n",
        "cv_scores = cross_val_score(model, X_resampled, y_resampled, cv=cv, scoring='accuracy')\n"
      ],
      "metadata": {
        "id": "K0Cfa1ad_in2"
      },
      "execution_count": 34,
      "outputs": []
    },
    {
      "cell_type": "code",
      "source": [
        "# Output hasil cross-validation\n",
        "print(\"Cross-Validation Scores:\", cv_scores)\n",
        "print(\"Mean Accuracy:\", cv_scores.mean())"
      ],
      "metadata": {
        "id": "42TMEmlC_jb6",
        "colab": {
          "base_uri": "https://localhost:8080/"
        },
        "outputId": "c343b0f9-1be1-47e8-bca7-aceead838cea"
      },
      "execution_count": 35,
      "outputs": [
        {
          "output_type": "stream",
          "name": "stdout",
          "text": [
            "Cross-Validation Scores: [0.44409071 0.44332576 0.44554689 0.44554689 0.44634561]\n",
            "Mean Accuracy: 0.44497117339616493\n"
          ]
        }
      ]
    },
    {
      "cell_type": "code",
      "source": [
        "# 6. Evaluasi lebih lanjut pada subset data test\n",
        "# Split data untuk evaluasi akhir\n",
        "X_train, X_test, y_train, y_test = train_test_split(X_resampled, y_resampled, test_size=0.3, random_state=42)\n",
        "model.fit(X_train, y_train)\n",
        "y_pred = model.predict(X_test)"
      ],
      "metadata": {
        "id": "8H35tfOdNTJp"
      },
      "execution_count": 36,
      "outputs": []
    },
    {
      "cell_type": "code",
      "source": [
        "# Evaluasi akurasi dan laporan klasifikasi\n",
        "print(\"\\nAccuracy on Test Set:\", accuracy_score(y_test, y_pred))\n",
        "print(\"\\nClassification Report:\\n\", classification_report(y_test, y_pred))"
      ],
      "metadata": {
        "colab": {
          "base_uri": "https://localhost:8080/"
        },
        "id": "WIOZ_Jg8_pqb",
        "outputId": "47e7433e-c2a9-4efe-db46-97f15bc1edc0"
      },
      "execution_count": 37,
      "outputs": [
        {
          "output_type": "stream",
          "name": "stdout",
          "text": [
            "\n",
            "Accuracy on Test Set: 0.4459618571932114\n",
            "\n",
            "Classification Report:\n",
            "               precision    recall  f1-score   support\n",
            "\n",
            "           0       0.36      0.09      0.15      6992\n",
            "           1       0.30      0.60      0.40      7101\n",
            "           2       0.34      0.29      0.31      7010\n",
            "           3       0.22      0.26      0.24      7011\n",
            "           4       0.33      0.25      0.29      6932\n",
            "           5       0.22      0.24      0.23      7075\n",
            "           6       0.22      0.14      0.17      6866\n",
            "           7       0.28      0.55      0.37      6963\n",
            "           8       0.46      0.76      0.57      7072\n",
            "           9       0.26      0.33      0.29      6950\n",
            "          10       0.58      0.58      0.58      6998\n",
            "          11       0.19      0.10      0.13      7156\n",
            "          12       0.99      0.85      0.91      6941\n",
            "          13       0.30      0.12      0.17      6917\n",
            "          14       0.40      0.21      0.28      7013\n",
            "          15       1.00      1.00      1.00      7066\n",
            "          16       0.36      0.18      0.24      7076\n",
            "          17       0.81      0.97      0.89      7178\n",
            "          18       0.71      0.92      0.80      7024\n",
            "\n",
            "    accuracy                           0.45    133341\n",
            "   macro avg       0.44      0.44      0.42    133341\n",
            "weighted avg       0.44      0.45      0.42    133341\n",
            "\n"
          ]
        }
      ]
    },
    {
      "cell_type": "code",
      "source": [
        "# 8. Tampilkan prediksi\n",
        "predicted_results = pd.DataFrame({\n",
        "    'YearStart': X_test[:, 0],  # Accessing columns by index\n",
        "    'YearEnd': X_test[:, 1],    # Accessing columns by index\n",
        "    'DataValue': X_test[:, 2],  # Accessing columns by index\n",
        "    'Predicted_Topic': y_pred\n",
        "})\n",
        "print(\"\\nPredicted Results:\")\n",
        "print(predicted_results)"
      ],
      "metadata": {
        "colab": {
          "base_uri": "https://localhost:8080/"
        },
        "id": "9uOBkchUAz10",
        "outputId": "c77b62f0-24a6-4dc2-ba0c-4883aedee3b5"
      },
      "execution_count": 38,
      "outputs": [
        {
          "output_type": "stream",
          "name": "stdout",
          "text": [
            "\n",
            "Predicted Results:\n",
            "        YearStart   YearEnd  DataValue  Predicted_Topic\n",
            "0        0.646480  1.616333  -0.042038               15\n",
            "1       -0.608285 -1.192844  -0.037915                8\n",
            "2        1.273863  1.616333  -0.041192                7\n",
            "3        0.646480  0.679940  -0.040417                9\n",
            "4        1.273863  1.616333  -0.040835                8\n",
            "...           ...       ...        ...              ...\n",
            "133336   0.019098 -0.256452  -0.040915                8\n",
            "133337  -0.608285 -1.192844  -0.040740                5\n",
            "133338  -0.608285 -1.192844  -0.041495               11\n",
            "133339  -0.608285 -1.192844  -0.037847               16\n",
            "133340  -0.608285 -1.192844  -0.028127               17\n",
            "\n",
            "[133341 rows x 4 columns]\n"
          ]
        }
      ]
    },
    {
      "cell_type": "code",
      "source": [
        "import matplotlib.pyplot as plt\n",
        "import seaborn as sns\n",
        "\n",
        "# Membuat DataFrame Prediksi\n",
        "predicted_results = pd.DataFrame({\n",
        "    'YearStart': X_test[:, 0],  # Mengakses kolom berdasarkan index\n",
        "    'YearEnd': X_test[:, 1],    # Mengakses kolom berdasarkan index\n",
        "    'DataValue': X_test[:, 2],  # Mengakses kolom berdasarkan index\n",
        "    'Predicted_Topic': y_pred\n",
        "})\n",
        "\n",
        "# Visualisasi 1: Scatter Plot Sebaran Prediksi per Tahun\n",
        "plt.figure(figsize=(10, 6))\n",
        "sns.scatterplot(data=predicted_results, x='YearStart', y='DataValue', hue='Predicted_Topic', palette='viridis')\n",
        "plt.title('Sebaran Prediksi Berdasarkan Tahun dan DataValue')\n",
        "plt.xlabel('YearStart')\n",
        "plt.ylabel('DataValue')\n",
        "plt.legend(title='Predicted Topic')\n",
        "plt.show()\n",
        "\n"
      ],
      "metadata": {
        "colab": {
          "base_uri": "https://localhost:8080/",
          "height": 466
        },
        "id": "WdaWPFQWRkG4",
        "outputId": "b0da28b8-5e81-4559-d4a4-4543552fa01b"
      },
      "execution_count": 41,
      "outputs": [
        {
          "output_type": "display_data",
          "data": {
            "text/plain": [
              "<Figure size 1000x600 with 1 Axes>"
            ],
            "image/png": "[encoded data removed]"
          },
          "metadata": {}
        }
      ]
    },
    {
      "cell_type": "code",
      "source": [
        "# Visualisasi 3: Histogram Distribusi Prediksi per Topik\n",
        "plt.figure(figsize=(10, 6))\n",
        "sns.histplot(data=predicted_results, x='Predicted_Topic', bins=10, kde=True, color='green')\n",
        "plt.title('Distribusi Prediksi Berdasarkan Topik')\n",
        "plt.xlabel('Predicted Topic')\n",
        "plt.ylabel('Frekuensi')\n",
        "plt.show()"
      ],
      "metadata": {
        "colab": {
          "base_uri": "https://localhost:8080/",
          "height": 456
        },
        "id": "MJG9xKPQRxwM",
        "outputId": "2d4c3f52-0f86-41cc-afcd-0ef857d151f0"
      },
      "execution_count": 42,
      "outputs": [
        {
          "output_type": "display_data",
          "data": {
            "text/plain": [
              "<Figure size 1000x600 with 1 Axes>"
            ],
            "image/png": "[encoded data removed]"
          },
          "metadata": {}
        }
      ]
    },
    {
      "cell_type": "code",
      "source": [
        "# Visualisasi 2: Barplot Jumlah Prediksi Berdasarkan Tahun\n",
        "plt.figure(figsize=(35, 19))\n",
        "sns.countplot(data=predicted_results, x='YearStart', hue='Predicted_Topic', palette='coolwarm')\n",
        "plt.title('Jumlah Prediksi Berdasarkan Tahun (YearStart)')\n",
        "plt.xlabel('YearStart')\n",
        "plt.ylabel('Jumlah Prediksi')\n",
        "plt.legend(title='Predicted Topic')\n",
        "plt.show()\n"
      ],
      "metadata": {
        "colab": {
          "base_uri": "https://localhost:8080/",
          "height": 403
        },
        "id": "Dnm4nMBBRuvp",
        "outputId": "dac02ee0-694c-40bd-f26e-381d9f35f1b8"
      },
      "execution_count": 45,
      "outputs": [
        {
          "output_type": "display_data",
          "data": {
            "text/plain": [
              "<Figure size 3500x1900 with 1 Axes>"
            ],
            "image/png": "[encoded data removed]"
          },
          "metadata": {}
        }
      ]
    }
  ]
}